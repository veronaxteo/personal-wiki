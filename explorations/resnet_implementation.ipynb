{
 "cells": [
  {
   "cell_type": "markdown",
   "id": "170e63c8",
   "metadata": {},
   "source": [
    "# ResNet\n",
    "## Simple Implementation of Residual Neural Network"
   ]
  },
  {
   "cell_type": "code",
   "execution_count": 1,
   "id": "21cde099",
   "metadata": {},
   "outputs": [],
   "source": [
    "import torch.nn as nn\n",
    "\n",
    "class ResNet(nn.Module):\n",
    "\n",
    "    def __init__(self, block, layers, num_classes=10):\n",
    "        super(ResNet, self).__init__()\n",
    "        self.in_planes = 64\n",
    "        self.conv1 = nn.Conv2d(3, 64, kernel_size=3, stride=1, padding=1, bias=False)\n",
    "        self.bn1 = nn.BatchNorm2d(64)\n",
    "        self.relu = nn.functional.relu\n",
    "        self.layer1 = self.new_block(block, 64, layers[0], stride=1)\n",
    "        self.layer2 = self.new_block(block, 128, layers[1], stride=2)\n",
    "        self.layer3 = self.new_block(block, 256, layers[2], stride=2)\n",
    "        self.layer4 = self.new_block(block, 512, layers[3], stride=2)\n",
    "        self.avgpool = nn.functional.avg_pool2d\n",
    "        self.linear = nn.Linear(512 * block.expansion, num_classes)\n",
    "\n",
    "    # forward function\n",
    "    def forward(self, x):\n",
    "        out = self.avgpool(self.layer4(self.layer3(self.layer2(self.layer1(self.relu(self.bn1(self.conv1(x))))))))\n",
    "        return self.linear(out.view(out.size(0), -1))\n",
    "\n",
    "    # convolution\n",
    "    def new_block(self, block, planes, num_blocks, stride):\n",
    "        layers = []\n",
    "        strides = [stride] + ([1] * (num_blocks - 1))\n",
    "        for stride in strides:\n",
    "            layers.append(block(self.in_planes, planes, stride))\n",
    "            self.in_planes = planes * block.expansion\n",
    "        return nn.Sequential(*layers)"
   ]
  }
 ],
 "metadata": {
  "kernelspec": {
   "display_name": "Python 3 (ipykernel)",
   "language": "python",
   "name": "python3"
  },
  "language_info": {
   "codemirror_mode": {
    "name": "ipython",
    "version": 3
   },
   "file_extension": ".py",
   "mimetype": "text/x-python",
   "name": "python",
   "nbconvert_exporter": "python",
   "pygments_lexer": "ipython3",
   "version": "3.9.7"
  }
 },
 "nbformat": 4,
 "nbformat_minor": 5
}
